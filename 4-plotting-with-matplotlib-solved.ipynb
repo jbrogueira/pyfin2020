{
 "cells": [
  {
   "cell_type": "markdown",
   "metadata": {},
   "source": [
    "# Python for Finance 2020\n",
    "\n",
    "MSc in Finance, Universidade Católica Portuguesa\n",
    "\n",
    "João Brogueira de Sousa [jbsousa@ucp.pt]"
   ]
  },
  {
   "cell_type": "markdown",
   "metadata": {},
   "source": [
    "## Creating figures with Matplotlib\n",
    "\n",
    "[Matplotlib](https://matplotlib.org) is another Python library, in this case containing functions to produce plots, histograms, bar charts, scatterplots, etc.\n",
    "\n",
    "We have used it before when we called the method `plot()` with DataFrames.\n",
    "\n",
    "In this notebook you will learn in more detail the basics of how to work with Matplotlib. There are many options available to customize your figures, that you will get to know by experience as you go through different applications. See this [advanced plotting example at quantecon.org](https://datascience.quantecon.org/pandas/matplotlib.html) for how much customization one can do."
   ]
  },
  {
   "cell_type": "code",
   "execution_count": null,
   "metadata": {},
   "outputs": [],
   "source": [
    "import numpy as np\n",
    "import pandas as pd\n",
    "import matplotlib\n",
    "import matplotlib.pyplot as plt"
   ]
  },
  {
   "cell_type": "code",
   "execution_count": null,
   "metadata": {},
   "outputs": [],
   "source": [
    "df = pd.read_csv(\"^VIX.csv\")\n",
    "df.head()"
   ]
  },
  {
   "cell_type": "code",
   "execution_count": null,
   "metadata": {},
   "outputs": [],
   "source": [
    "df.set_index('Date', inplace=True)\n",
    "df.head()"
   ]
  },
  {
   "cell_type": "code",
   "execution_count": null,
   "metadata": {},
   "outputs": [],
   "source": [
    "df"
   ]
  },
  {
   "cell_type": "markdown",
   "metadata": {},
   "source": [
    "To handle the following plot operations faster, let us consider only the last month of data:"
   ]
  },
  {
   "cell_type": "code",
   "execution_count": null,
   "metadata": {},
   "outputs": [],
   "source": [
    "df = df[df.index > '2020-01-15']"
   ]
  },
  {
   "cell_type": "markdown",
   "metadata": {},
   "source": [
    "Now that we have our data ready, we can repeat a statement we have seen before, but this time notice the assignment:"
   ]
  },
  {
   "cell_type": "code",
   "execution_count": null,
   "metadata": {},
   "outputs": [],
   "source": [
    "ax = df['SPX'].plot()"
   ]
  },
  {
   "cell_type": "code",
   "execution_count": null,
   "metadata": {},
   "outputs": [],
   "source": [
    "type(ax)"
   ]
  },
  {
   "cell_type": "markdown",
   "metadata": {},
   "source": [
    "Matplotlib figures are composed of two types of Python objects:\n",
    "\n",
    "- `Axes`: the \"frame\" in which we draw the different things we want to plot\n",
    "- `Figure`: the entire figure, including title, axis labels, etc.\n",
    "\n",
    "As any Python object we have seen, it comes with a variety of methods."
   ]
  },
  {
   "cell_type": "code",
   "execution_count": null,
   "metadata": {},
   "outputs": [],
   "source": [
    "fig = ax.get_figure()"
   ]
  },
  {
   "cell_type": "code",
   "execution_count": null,
   "metadata": {},
   "outputs": [],
   "source": [
    "type(fig)"
   ]
  },
  {
   "cell_type": "code",
   "execution_count": null,
   "metadata": {},
   "outputs": [],
   "source": [
    "fig"
   ]
  },
  {
   "cell_type": "code",
   "execution_count": null,
   "metadata": {},
   "outputs": [],
   "source": [
    "ax.set_title(\"SP500\") # set the title\n",
    "fig"
   ]
  },
  {
   "cell_type": "code",
   "execution_count": null,
   "metadata": {},
   "outputs": [],
   "source": [
    "ax.set_yticks([3200, 3300, 3400])\n",
    "fig"
   ]
  },
  {
   "cell_type": "markdown",
   "metadata": {},
   "source": [
    "Note that instead of starting from a DateFrame and using the available methods to plot a figure, we can start with an empty Figure and Axes, and then plot a given DataFrame or Series data on that Axes:"
   ]
  },
  {
   "cell_type": "code",
   "execution_count": null,
   "metadata": {},
   "outputs": [],
   "source": [
    "fig2, ax2 = plt.subplots() # an empty figure"
   ]
  },
  {
   "cell_type": "code",
   "execution_count": null,
   "metadata": {},
   "outputs": [],
   "source": [
    "ax2.plot(df['SPX'], color='r', label='SPX') # plot `SPX` on Axes `ax2`, using a red line\n",
    "fig2"
   ]
  },
  {
   "cell_type": "code",
   "execution_count": null,
   "metadata": {},
   "outputs": [],
   "source": [
    "ax2.set_xticks(['2020-01-16', '2020-01-30', '2020-02-14'])\n",
    "fig2"
   ]
  },
  {
   "cell_type": "code",
   "execution_count": null,
   "metadata": {},
   "outputs": [],
   "source": [
    "ax2.legend(loc='upper left') # set the legend on left hand side\n",
    "fig2"
   ]
  },
  {
   "cell_type": "code",
   "execution_count": null,
   "metadata": {},
   "outputs": [],
   "source": [
    "ax2.set_title('SP500 (red)')\n",
    "fig2"
   ]
  },
  {
   "cell_type": "markdown",
   "metadata": {},
   "source": [
    "These are two different paths to producing a figure, you can choose the preferred alternative in each application.\n",
    "\n",
    "There are infinite possibilities when it comes to creating our own figures. Here are a few examples:"
   ]
  },
  {
   "cell_type": "code",
   "execution_count": null,
   "metadata": {},
   "outputs": [],
   "source": [
    "df.plot(subplots=True, figsize=(8,6), title='SPX and VIX')"
   ]
  },
  {
   "cell_type": "markdown",
   "metadata": {},
   "source": [
    "Or yet another interesting alternative:"
   ]
  },
  {
   "cell_type": "code",
   "execution_count": null,
   "metadata": {},
   "outputs": [],
   "source": [
    "df.plot(secondary_y='VIX', figsize=(8,6), title='SPX and VIX')"
   ]
  },
  {
   "cell_type": "markdown",
   "metadata": {},
   "source": [
    "### Example: Correlation Analysis\n",
    "\n",
    "The previous figure suggests a stylized fact: in the stock market, when the [S&P 500](https://en.wikipedia.org/wiki/S%26P_500_Index) index rises, the [VIX](https://en.wikipedia.org/wiki/VIX) (a volatility index) falls. In other words, *changes* in the two series are negatively correlated.\n",
    "\n",
    "In this example, we will further explore Matplotlib and investigate if we can find empirical support for this stylized fact."
   ]
  },
  {
   "cell_type": "code",
   "execution_count": null,
   "metadata": {},
   "outputs": [],
   "source": [
    "data = pd.read_csv(\"^VIX.csv\") # import entire dataset"
   ]
  },
  {
   "cell_type": "code",
   "execution_count": null,
   "metadata": {
    "scrolled": true
   },
   "outputs": [],
   "source": [
    "data.corr()"
   ]
  },
  {
   "cell_type": "code",
   "execution_count": null,
   "metadata": {},
   "outputs": [],
   "source": [
    "data.set_index('Date', inplace=True)"
   ]
  },
  {
   "cell_type": "markdown",
   "metadata": {},
   "source": [
    "Use the `plot` method to plot both series on the same figure, using the y-axis on the left for `SPX`, and on the right for `VIX`. Does it look like the two series are negatively correlated? What else do you notice?"
   ]
  },
  {
   "cell_type": "code",
   "execution_count": null,
   "metadata": {},
   "outputs": [],
   "source": [
    "data.plot(secondary_y='VIX', figsize=(8,6), title='SPX and VIX')"
   ]
  },
  {
   "cell_type": "markdown",
   "metadata": {},
   "source": [
    "Let us calculate and use `log` differences instead, by using `log` from `numpy`."
   ]
  },
  {
   "cell_type": "code",
   "execution_count": null,
   "metadata": {},
   "outputs": [],
   "source": [
    "rets = np.log(data/data.shift(1))"
   ]
  },
  {
   "cell_type": "code",
   "execution_count": null,
   "metadata": {},
   "outputs": [],
   "source": [
    "rets.dropna(inplace=True)\n",
    "rets.head()"
   ]
  },
  {
   "cell_type": "code",
   "execution_count": null,
   "metadata": {},
   "outputs": [],
   "source": [
    "rets.plot(secondary_y='VIX', figsize=(8,6), title='SPX and VIX')"
   ]
  },
  {
   "cell_type": "markdown",
   "metadata": {},
   "source": [
    "The two series now *look* like stationary. But the figure is not very informative...\n",
    "\n",
    "Let us instead look at a scatter plot of `SPX` against `VIX` log differences."
   ]
  },
  {
   "cell_type": "code",
   "execution_count": null,
   "metadata": {},
   "outputs": [],
   "source": [
    "ax3 = rets.plot(kind='scatter', x='SPX', y='VIX', figsize=(8,6))"
   ]
  },
  {
   "cell_type": "markdown",
   "metadata": {},
   "source": [
    "We can easily fit a linear trend with this data by runnig a linear regression of `SPX` on `VIX` using `numpy`, confirming the negative correlation between changes in `SPX` and in `VIX`:"
   ]
  },
  {
   "cell_type": "code",
   "execution_count": null,
   "metadata": {},
   "outputs": [],
   "source": [
    "reg = np.polyfit(rets['SPX'], rets['VIX'], deg=1)"
   ]
  },
  {
   "cell_type": "code",
   "execution_count": null,
   "metadata": {},
   "outputs": [],
   "source": [
    "ax3.plot(rets['SPX'], np.polyval(reg, rets['SPX']), 'r', lw=2)\n",
    "ax3.get_figure()"
   ]
  },
  {
   "cell_type": "markdown",
   "metadata": {},
   "source": [
    "### Further exercises\n",
    "\n",
    "Read, solve the examples and the last exercise in the notebook about [Matplotlib at quantecon.org](https://python.quantecon.org/matplotlib.html)."
   ]
  }
 ],
 "metadata": {
  "kernelspec": {
   "display_name": "Python 3",
   "language": "python",
   "name": "python3"
  },
  "language_info": {
   "codemirror_mode": {
    "name": "ipython",
    "version": 3
   },
   "file_extension": ".py",
   "mimetype": "text/x-python",
   "name": "python",
   "nbconvert_exporter": "python",
   "pygments_lexer": "ipython3",
   "version": "3.7.4"
  }
 },
 "nbformat": 4,
 "nbformat_minor": 2
}
