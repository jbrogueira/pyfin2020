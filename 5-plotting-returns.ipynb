{
 "cells": [
  {
   "cell_type": "markdown",
   "metadata": {},
   "source": [
    "# Python for Finance 2020\n",
    "\n",
    "MSc in Finance, Universidade Católica Portuguesa\n",
    "\n",
    "João Brogueira de Sousa [jbsousa@ucp.pt]"
   ]
  },
  {
   "cell_type": "markdown",
   "metadata": {},
   "source": [
    "## Plotting and testing Normality of stock market returns\n",
    "\n",
    "The [Normal distribution](https://en.wikipedia.org/wiki/Normal_distribution) is one of the most important probability distributions in Finance. You have previously met different financial models with the assumption that the data is distributed according to the Normal distribution (*Portfolio theory*, certain derivations of the *CAPM*, etc.).\n",
    "\n",
    "In this notebook we will use our Python skills to plot the distribution of returns and test their Normality empirically.\n",
    "\n",
    "We will use [statsmodels](https://www.statsmodels.org/stable/about.html#about-statsmodels), \"a Python module that provides classes and functions for the estimation of many different statistical models, as well as for conducting statistical tests\"."
   ]
  },
  {
   "cell_type": "code",
   "execution_count": null,
   "metadata": {},
   "outputs": [],
   "source": [
    "import numpy as np\n",
    "import pandas as pd\n",
    "import matplotlib\n",
    "import matplotlib.pyplot as plt\n",
    "import scipy.stats as sps # https://docs.scipy.org/doc/scipy/reference/stats.html\n",
    "import statsmodels.api as stm # https://www.statsmodels.org/stable/api.html"
   ]
  },
  {
   "cell_type": "markdown",
   "metadata": {},
   "source": [
    "The following imports time series of the price level of Vanguard's [S&P 500 ETF]((https://investor.vanguard.com/etf/profile/VOO)) (`VOO`) and [Total World Stock ETF]((https://investor.vanguard.com/etf/profile/VT)) (`VT`), and Apple (`AAPL`) and Microsoft (`MSFT`) stocks, downloaded from [finance.yahoo.com](https://finance.yahoo.com/quote/AAPL?p=AAPL&.tsrc=fin-srch)."
   ]
  },
  {
   "cell_type": "code",
   "execution_count": null,
   "metadata": {},
   "outputs": [],
   "source": [
    "# Import data on Vanguard's ETFs VOO, VT, Apple and Microsoft:\n",
    "data = pd.read_csv(\"VOO.csv\")\n",
    "\n",
    "data.head()"
   ]
  },
  {
   "cell_type": "markdown",
   "metadata": {},
   "source": [
    "As we usually do, we set the Date column as the `index`:"
   ]
  },
  {
   "cell_type": "code",
   "execution_count": null,
   "metadata": {},
   "outputs": [],
   "source": [
    "data.set_index('Date', inplace=True) # Set the Index"
   ]
  },
  {
   "cell_type": "code",
   "execution_count": null,
   "metadata": {},
   "outputs": [],
   "source": [
    "data.head()"
   ]
  },
  {
   "cell_type": "markdown",
   "metadata": {},
   "source": [
    "Let's compute log returns from the level data:"
   ]
  },
  {
   "cell_type": "code",
   "execution_count": null,
   "metadata": {},
   "outputs": [],
   "source": []
  },
  {
   "cell_type": "code",
   "execution_count": null,
   "metadata": {},
   "outputs": [],
   "source": []
  },
  {
   "cell_type": "markdown",
   "metadata": {},
   "source": [
    "The first thing we may want to do in order to visualize the empirical distribution of the return data we have just computed is to produce an histogram. \n",
    "\n",
    "Since we are working with a pandas DataFrame, we can use the ready to use `hist` method:"
   ]
  },
  {
   "cell_type": "code",
   "execution_count": null,
   "metadata": {},
   "outputs": [],
   "source": [
    "# log_returns.hist?"
   ]
  },
  {
   "cell_type": "code",
   "execution_count": null,
   "metadata": {},
   "outputs": [],
   "source": []
  },
  {
   "cell_type": "markdown",
   "metadata": {},
   "source": [
    "If we want to compute descriptive statistics of these data, we can use `scipy.stats.describe` function:"
   ]
  },
  {
   "cell_type": "code",
   "execution_count": null,
   "metadata": {},
   "outputs": [],
   "source": [
    "# sps.describe?"
   ]
  },
  {
   "cell_type": "markdown",
   "metadata": {},
   "source": [
    "Let's create and print a table for each asset, with the descriptive statistics returned by `describe`:"
   ]
  },
  {
   "cell_type": "code",
   "execution_count": null,
   "metadata": {},
   "outputs": [],
   "source": []
  },
  {
   "cell_type": "markdown",
   "metadata": {},
   "source": [
    "The four kurtosis values seem to be especially far from what we would expect from normally distributed variables.\n",
    "\n",
    "One common graphical way to compare two distributions (in this case, distribution of returns and normal distribution) is a quantile-quantile plot ([QQ plot](https://en.wikipedia.org/wiki/Q%E2%80%93Q_plot)).\n",
    "\n",
    "[statsmodels qqplot](https://www.statsmodels.org/stable/generated/statsmodels.graphics.gofplots.qqplot.html) is a function that produces a QQ plot. As default, it plots the quantiles of the data (vertical axis) against the quantiles of a standard normal distribution (horizontal axis).\n",
    "\n",
    "If the data is normal, the resulting quantiles would be located along a 45 degree line. If the data is distributed according to a linear transformation of a standard normal, the resulting plot would be along a straight line (not necessarily the 45 degree line). Deviations from such a line highlight differences relative to the normal, such has skewness or excess kurtosis."
   ]
  },
  {
   "cell_type": "code",
   "execution_count": null,
   "metadata": {},
   "outputs": [],
   "source": [
    "# stm.qqplot?"
   ]
  },
  {
   "cell_type": "code",
   "execution_count": null,
   "metadata": {
    "scrolled": false
   },
   "outputs": [],
   "source": []
  },
  {
   "cell_type": "markdown",
   "metadata": {},
   "source": [
    "The figures above *suggests* fat-tailed empirical distributions: compared to the standard normal, the data exhibits higher frequency of large negative and positive values.\n",
    "\n",
    "Finally, we can formally test if there is evidence to reject the assumption of normally distributed returns. We can easily do it since `scipy.stats` includes tests for skewness and kurtosis, and normality."
   ]
  },
  {
   "cell_type": "code",
   "execution_count": null,
   "metadata": {},
   "outputs": [],
   "source": [
    "# sps.skewtest?"
   ]
  },
  {
   "cell_type": "code",
   "execution_count": null,
   "metadata": {},
   "outputs": [],
   "source": [
    "# sps.kurtosistest?"
   ]
  },
  {
   "cell_type": "code",
   "execution_count": null,
   "metadata": {},
   "outputs": [],
   "source": [
    "# sps.normaltest?"
   ]
  },
  {
   "cell_type": "code",
   "execution_count": null,
   "metadata": {},
   "outputs": [],
   "source": []
  },
  {
   "cell_type": "code",
   "execution_count": null,
   "metadata": {},
   "outputs": [],
   "source": []
  }
 ],
 "metadata": {
  "kernelspec": {
   "display_name": "Python 3",
   "language": "python",
   "name": "python3"
  },
  "language_info": {
   "codemirror_mode": {
    "name": "ipython",
    "version": 3
   },
   "file_extension": ".py",
   "mimetype": "text/x-python",
   "name": "python",
   "nbconvert_exporter": "python",
   "pygments_lexer": "ipython3",
   "version": "3.7.4"
  }
 },
 "nbformat": 4,
 "nbformat_minor": 2
}
