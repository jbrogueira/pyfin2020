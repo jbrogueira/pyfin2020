{
 "cells": [
  {
   "cell_type": "markdown",
   "metadata": {},
   "source": [
    "# Python for Finance 2020\n",
    "\n",
    "MSc in Finance, Universidade Católica Portuguesa\n",
    "\n",
    "João Brogueira de Sousa [jbsousa@ucp.pt]"
   ]
  },
  {
   "cell_type": "markdown",
   "metadata": {},
   "source": [
    "## Plotting and testing Normality of stock market returns\n",
    "\n",
    "The [Normal distribution](https://en.wikipedia.org/wiki/Normal_distribution) is one of the most important probability distributions in Finance. You have previously met different financial models with the assumption that the data is distributed according to the Normal distribution (*Portfolio theory*, certain derivations of the *CAPM*, etc.).\n",
    "\n",
    "In this notebook we will use our Python skills to plot the distribution of returns and test their Normality empirically.\n",
    "\n",
    "We will use [statsmodels](https://www.statsmodels.org/stable/about.html#about-statsmodels), \"a Python module that provides classes and functions for the estimation of many different statistical models, as well as for conducting statistical tests\"."
   ]
  },
  {
   "cell_type": "code",
   "execution_count": null,
   "metadata": {},
   "outputs": [],
   "source": [
    "import numpy as np\n",
    "import pandas as pd\n",
    "import matplotlib\n",
    "import matplotlib.pyplot as plt\n",
    "import scipy.stats as sps # https://docs.scipy.org/doc/scipy/reference/stats.html\n",
    "import statsmodels.api as stm # https://www.statsmodels.org/stable/api.html"
   ]
  },
  {
   "cell_type": "markdown",
   "metadata": {},
   "source": [
    "The following imports time series of the price level of Vanguard's [S&P 500 ETF]((https://investor.vanguard.com/etf/profile/VOO)) (`VOO`) and [Total World Stock ETF]((https://investor.vanguard.com/etf/profile/VT)) (`VT`), and Apple (`AAPL`) and Microsoft (`MSFT`) stocks, downloaded from [finance.yahoo.com](https://finance.yahoo.com/quote/AAPL?p=AAPL&.tsrc=fin-srch)."
   ]
  },
  {
   "cell_type": "code",
   "execution_count": null,
   "metadata": {},
   "outputs": [],
   "source": [
    "# Import data on Vanguard's ETFs VOO, VT, Apple and Microsoft:\n",
    "data = pd.read_csv(\"VOO.csv\")\n",
    "\n",
    "data.head()"
   ]
  },
  {
   "cell_type": "markdown",
   "metadata": {},
   "source": [
    "As we usually do, we set the Date column as the `index`:"
   ]
  },
  {
   "cell_type": "code",
   "execution_count": null,
   "metadata": {},
   "outputs": [],
   "source": [
    "data.set_index('Date', inplace=True) # Set the Index"
   ]
  },
  {
   "cell_type": "code",
   "execution_count": null,
   "metadata": {},
   "outputs": [],
   "source": [
    "data.index = pd.to_datetime(data.index, format=\"%d/%m/%Y\") # Set Index dtype=datetime"
   ]
  },
  {
   "cell_type": "code",
   "execution_count": null,
   "metadata": {},
   "outputs": [],
   "source": [
    "data.head()"
   ]
  },
  {
   "cell_type": "markdown",
   "metadata": {},
   "source": [
    "Let's compute log returns from the level data:"
   ]
  },
  {
   "cell_type": "code",
   "execution_count": null,
   "metadata": {},
   "outputs": [],
   "source": [
    "log_returns = np.log(data/data.shift(1))\n",
    "\n",
    "log_returns.head()"
   ]
  },
  {
   "cell_type": "code",
   "execution_count": null,
   "metadata": {},
   "outputs": [],
   "source": [
    "log_returns.dropna(inplace=True)\n",
    "type(log_returns)"
   ]
  },
  {
   "cell_type": "markdown",
   "metadata": {},
   "source": [
    "The first thing we may want to do in order to visualize the empirical distribution of the return data we have just computed is to produce an histogram. \n",
    "\n",
    "Since we are working with a pandas DataFrame, we can use the ready to use `hist` method:"
   ]
  },
  {
   "cell_type": "code",
   "execution_count": null,
   "metadata": {},
   "outputs": [],
   "source": [
    "# log_returns.hist?"
   ]
  },
  {
   "cell_type": "code",
   "execution_count": null,
   "metadata": {},
   "outputs": [],
   "source": [
    "fig = log_returns.hist(bins=50, figsize=(10,8))"
   ]
  },
  {
   "cell_type": "markdown",
   "metadata": {},
   "source": [
    "If we want to compute descriptive statistics of these data, we can use `scipy.stats.describe` function:"
   ]
  },
  {
   "cell_type": "code",
   "execution_count": null,
   "metadata": {},
   "outputs": [],
   "source": [
    "# sps.describe?"
   ]
  },
  {
   "cell_type": "markdown",
   "metadata": {},
   "source": [
    "Let's create and print a table for each asset, with the descriptive statistics returned by `describe`:"
   ]
  },
  {
   "cell_type": "code",
   "execution_count": null,
   "metadata": {},
   "outputs": [],
   "source": [
    "# Here we use `scpys.describe` for descriptive statistics\n",
    "ticker = ['VOO', 'VT', 'AAPL', 'MSFT']\n",
    "\n",
    "# Details about printing data here: \n",
    "# https://docs.python.org/3/tutorial/inputoutput.html\n",
    "for tic in ticker:\n",
    "    print(f'{tic}') \n",
    "    print(32 * '-')\n",
    "    dstat = sps.describe(log_returns[tic].dropna())\n",
    "    print('%15s %15s' % ('statistic', 'value'))\n",
    "    print(32 * '-')\n",
    "    print('%15s %15.4f' % ('size', dstat[0]))\n",
    "    print('%15s %15.4f' % ('min', dstat[1][0]))\n",
    "    print('%15s %15.4f' % ('max', dstat[1][1]))\n",
    "    print('%15s %15.4f' % ('mean', dstat[2]))\n",
    "    print('%15s %15.4f' % ('var', dstat[3]))\n",
    "    print('%15s %15.4f' % ('skew', dstat[4]))\n",
    "    print('%15s %15.4f' % ('kurtosis', dstat[5]))"
   ]
  },
  {
   "cell_type": "markdown",
   "metadata": {},
   "source": [
    "The four kurtosis values seem to be especially far from what we would expect from normally distributed variables.\n",
    "\n",
    "One common graphical way to compare two distributions (in this case, distribution of returns and normal distribution) is a quantile-quantile plot ([QQ plot](https://en.wikipedia.org/wiki/Q%E2%80%93Q_plot)).\n",
    "\n",
    "[statsmodels qqplot](https://www.statsmodels.org/stable/generated/statsmodels.graphics.gofplots.qqplot.html) is a function that produces a QQ plot. As default, it plots the quantiles of the data (vertical axis) against the quantiles of a standard normal distribution (horizontal axis).\n",
    "\n",
    "If the data is normal, the resulting quantiles would be located along a 45 degree line. If the data is distributed according to a linear transformation of a standard normal, the resulting plot would be along a straight line (not necessarily the 45 degree line). Deviations from such a line highlight differences relative to the normal, such has skewness or excess kurtosis."
   ]
  },
  {
   "cell_type": "code",
   "execution_count": null,
   "metadata": {},
   "outputs": [],
   "source": [
    "# stm.qqplot?"
   ]
  },
  {
   "cell_type": "code",
   "execution_count": null,
   "metadata": {
    "scrolled": false
   },
   "outputs": [],
   "source": [
    "tickers = ['VOO', 'VT', 'AAPL', 'MSFT']\n",
    "\n",
    "num_rows, num_cols = 2, 2\n",
    "\n",
    "fig, axes = plt.subplots(num_rows, num_cols, figsize=(12,10))\n",
    "\n",
    "for i in range(num_rows):\n",
    "    for j in range(num_cols):\n",
    "        # Notice the indexing of `tickers`:\n",
    "        stm.qqplot(log_returns[tickers[num_rows*i+j]], line='s', ax = axes[i,j])\n",
    "        axes[i,j].set(title=f'{tickers[num_rows*i+j]}')"
   ]
  },
  {
   "cell_type": "markdown",
   "metadata": {},
   "source": [
    "The figures above *suggests* fat-tailed empirical distributions: compared to the standard normal, the data exhibits higher frequency of large negative and positive values.\n",
    "\n",
    "Finally, we can formally test if there is evidence to reject the assumption of normally distributed returns. We can easily do it since `scipy.stats` includes tests for skewness and kurtosis, and normality."
   ]
  },
  {
   "cell_type": "code",
   "execution_count": null,
   "metadata": {},
   "outputs": [],
   "source": [
    "# sps.skewtest?"
   ]
  },
  {
   "cell_type": "code",
   "execution_count": null,
   "metadata": {},
   "outputs": [],
   "source": [
    "# sps.kurtosistest?"
   ]
  },
  {
   "cell_type": "code",
   "execution_count": null,
   "metadata": {},
   "outputs": [],
   "source": [
    "# sps.normaltest?"
   ]
  },
  {
   "cell_type": "code",
   "execution_count": null,
   "metadata": {},
   "outputs": [],
   "source": [
    "for tic in ticker:\n",
    "    print(32 * '-')\n",
    "    print(f'{tic}') \n",
    "    print(32 * '-')\n",
    "    print('Skew of data      %14.3f' % sps.skew(log_returns[tic]))\n",
    "    print('Skew test p-value %14.3f' % sps.skewtest(log_returns[tic])[1])\n",
    "    print('Kurt of data      %14.3f' % sps.kurtosis(log_returns[tic]))\n",
    "    print('Kurt test p-value %14.3f' % sps.kurtosistest(log_returns[tic])[1])\n",
    "    print('Norm test p-value %14.3f' % sps.normaltest(log_returns[tic])[1]) "
   ]
  },
  {
   "cell_type": "markdown",
   "metadata": {},
   "source": [
    "Here's an alternative using [plotly](https://plot.ly/python/table/):"
   ]
  },
  {
   "cell_type": "code",
   "execution_count": null,
   "metadata": {},
   "outputs": [],
   "source": [
    "data = pd.DataFrame({'Tickers': [], 'Skew of data': [], 'Skew test p-value': [], 'Kurt of data': [],\n",
    "                    'Kurt test p-value': [], 'Norm test p-value': []})\n",
    "\n",
    "for tic in ticker:\n",
    "    data = data.append({'Tickers': tic, 'Skew of data': round(sps.skew(log_returns[tic]),2), \n",
    "                        'Skew test p-value': round(sps.skewtest(log_returns[tic])[1],2), \n",
    "                        'Kurt of data': round(sps.kurtosis(log_returns[tic]),2),\n",
    "                        'Kurt test p-value': round(sps.kurtosistest(log_returns[tic])[1],2), \n",
    "                        'Norm test p-value': round(sps.normaltest(log_returns[tic])[1],2)}, \n",
    "                      ignore_index=True)\n"
   ]
  },
  {
   "cell_type": "code",
   "execution_count": null,
   "metadata": {},
   "outputs": [],
   "source": [
    "data.values"
   ]
  },
  {
   "cell_type": "markdown",
   "metadata": {},
   "source": [
    "You may need to install plotly if it's not available in your Python distribution (you would get an error while importing). To do so, uncomment the following line:"
   ]
  },
  {
   "cell_type": "code",
   "execution_count": null,
   "metadata": {},
   "outputs": [],
   "source": [
    "# pip install plotly==4.5.2"
   ]
  },
  {
   "cell_type": "code",
   "execution_count": null,
   "metadata": {},
   "outputs": [],
   "source": [
    "import plotly.graph_objects as go\n",
    "\n",
    "fig = go.Figure(data=[go.Table(\n",
    "    header=dict(values=list(data.columns),\n",
    "                fill_color='paleturquoise',\n",
    "                align='right'),\n",
    "    cells=dict(values=data.values.T,\n",
    "               fill_color='lavender',\n",
    "               align='right'))\n",
    "])\n",
    "\n",
    "fig.show()"
   ]
  }
 ],
 "metadata": {
  "kernelspec": {
   "display_name": "Python 3",
   "language": "python",
   "name": "python3"
  },
  "language_info": {
   "codemirror_mode": {
    "name": "ipython",
    "version": 3
   },
   "file_extension": ".py",
   "mimetype": "text/x-python",
   "name": "python",
   "nbconvert_exporter": "python",
   "pygments_lexer": "ipython3",
   "version": "3.7.4"
  }
 },
 "nbformat": 4,
 "nbformat_minor": 2
}
