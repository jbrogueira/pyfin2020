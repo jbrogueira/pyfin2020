{
 "cells": [
  {
   "cell_type": "markdown",
   "metadata": {},
   "source": [
    "# Python for Finance 2020\n",
    "\n",
    "MSc in Finance, Universidade Católica Portuguesa\n",
    "\n",
    "Instructor: João Brogueira de Sousa [jbsousa@ucp.pt]"
   ]
  },
  {
   "cell_type": "markdown",
   "metadata": {},
   "source": [
    "## Assignment #1\n",
    "\n",
    "This notebooks contains exercises that cover the material on notebooks 1 to 3. \n",
    "\n",
    "Note on grading: often, there will be different ways to solve the exercises and arrive at the correct result. Additional points are awarded for a clear and efficient use of Python. For example, a correct solution using only one `for` loop will be awarded more points than a correct solution using two or more `for` loops.\n",
    "\n",
    "In case you have any questions about the proposed solutions, please write to [jbsousa@ucp.pt]."
   ]
  },
  {
   "cell_type": "markdown",
   "metadata": {},
   "source": [
    "### Exercise 1 \n",
    "\n",
    "**1.1.** Create the following variables:\n",
    "\n",
    "- `D`: A `float` with the value 10,000\n",
    "- `r`: A `float` with value 0.025\n",
    "- `T`: An `int` with value 30"
   ]
  },
  {
   "cell_type": "code",
   "execution_count": null,
   "metadata": {},
   "outputs": [],
   "source": [
    "D, r, T = 10000.0, 0.025, 30"
   ]
  },
  {
   "cell_type": "markdown",
   "metadata": {},
   "source": [
    "**1.2.** Compute the present discounted value ($PDV$) of a payment $D$ made in $T$ years, assuming an annual effective discount rate of $r=2.5\\%$. Save this value in a new variable called `PDV` and print it."
   ]
  },
  {
   "cell_type": "code",
   "execution_count": null,
   "metadata": {},
   "outputs": [],
   "source": [
    "PDV = D/((1+r)**T)\n",
    "\n",
    "print(PDV)"
   ]
  },
  {
   "cell_type": "markdown",
   "metadata": {},
   "source": [
    "**1.3.** What is the data-type of `PDV`?"
   ]
  },
  {
   "cell_type": "code",
   "execution_count": null,
   "metadata": {},
   "outputs": [],
   "source": [
    "type(PDV)"
   ]
  },
  {
   "cell_type": "markdown",
   "metadata": {},
   "source": [
    "### Exercise 2\n",
    "\n",
    "Consider the following investment opportunity. One can invest 7,500 USD today (year 0), and will receive 2,000 USD per year starting 5 years from now (year 5) for a period of 5 years, and zero ever after."
   ]
  },
  {
   "cell_type": "markdown",
   "metadata": {},
   "source": [
    "**2.1.** Represent the stream of cashflows above using a type `list` variable named `cflows`."
   ]
  },
  {
   "cell_type": "code",
   "execution_count": null,
   "metadata": {},
   "outputs": [],
   "source": [
    "cflows = [-7500, 0, 0, 0, 0, 2000, 2000, 2000, 2000, 2000]"
   ]
  },
  {
   "cell_type": "markdown",
   "metadata": {},
   "source": [
    "**2.2.** With an annual effective discount rate of $5\\%$, what is the net present value (NPV) of this investment? Compute and then store this value in a variable named `NPV`."
   ]
  },
  {
   "cell_type": "code",
   "execution_count": null,
   "metadata": {},
   "outputs": [],
   "source": [
    "dr = 0.05\n",
    "\n",
    "NPV = sum(cf / ((1 + dr) ** i) for i, cf in enumerate(cflows)) \n",
    "\n",
    "print(\"NPV of investment is \" + str(round(NPV,2)))  # J: Use `round` if you want to print only 2 decimals."
   ]
  },
  {
   "cell_type": "markdown",
   "metadata": {},
   "source": [
    "**2.3.** Create a list with the discount rates $2\\%$, $3\\%$, $4\\%$, $5\\%$ and $6\\%$. Compute again the NPV of this investment for all these discount rates."
   ]
  },
  {
   "cell_type": "code",
   "execution_count": null,
   "metadata": {},
   "outputs": [],
   "source": [
    "drates = [0.02, 0.03, 0.04, 0.05, 0.06]\n",
    "\n",
    "for r in drates:\n",
    "    npv = sum(cf / ((1 + r) ** i) for i, cf in enumerate(cflows))\n",
    "    print(\"NPV of investment with \" + str(r*100) + \"% interest rate is \" + str(round(npv,2)))"
   ]
  },
  {
   "cell_type": "markdown",
   "metadata": {},
   "source": [
    "**2.4.** Define a function named `npv` that takes as parameter variables (`drate` and `cflows` as in `npv(drate, cflows)`): \n",
    "- a `float` with the annual effective discount rate (`drate`), \n",
    "- a `list` with the cashflows (`cflows`).\n",
    "\n",
    "This function should return a `float` with the corresponding NPV of the investment. \n",
    "\n",
    "Note that the order of the function arguments is relevant.\n"
   ]
  },
  {
   "cell_type": "code",
   "execution_count": null,
   "metadata": {},
   "outputs": [],
   "source": [
    " def npv(drate,cflows):\n",
    "    \"\"\"\n",
    "    This function returns the net present value (NPV) of a cash flow series.\n",
    "    \n",
    "    Parameters\n",
    "    ----------\n",
    "    drate : scalar\n",
    "        the effective discount rate\n",
    "        \n",
    "    cflows : array(float, ndim=1)\n",
    "        the values of the time series of cash flows\n",
    "    \n",
    "    Returs\n",
    "    ------\n",
    "    output : scalar(float)\n",
    "        The NPV of the cash flows `cflows` discounted at rate `drate`\n",
    "    \"\"\"\n",
    "    return sum(cflow/(1+drate)**t for t, cflow in enumerate(cflows))"
   ]
  },
  {
   "cell_type": "markdown",
   "metadata": {},
   "source": [
    "**2.5.** With the function defined above and, using the bisection method `bisect` available in the `scipy` package imported below, find the breakeven discount rate that corresponds to a NPV of zero.\n",
    "\n",
    "Note that to use the `bisect(npv,...)` method, you should provide the interval bounds for the bisection method and an additional argument to evaluate function `npv` correctly, specifically `args=cflows`. Learn how to use `bisect` by reading its docstring."
   ]
  },
  {
   "cell_type": "code",
   "execution_count": null,
   "metadata": {},
   "outputs": [],
   "source": [
    "from scipy import optimize"
   ]
  },
  {
   "cell_type": "code",
   "execution_count": null,
   "metadata": {},
   "outputs": [],
   "source": [
    "be = optimize.bisect(npv, 0.02, 0.06, args=cflows)\n",
    "\n",
    "print(\"Breakeven rate is \" + str(round(be*100,2)) + \"%.\")"
   ]
  },
  {
   "cell_type": "markdown",
   "metadata": {},
   "source": [
    "### Exercise 3\n",
    "\n",
    "**3.1.** Write a function named `P`, taking as inputs:\n",
    "1. a `list` of arbitrary length $n$ named `d`, representing a dividend stream over time $d_t$, and \n",
    "2. a `float` or `int` named `i`, representing the effective discount rate $i$. \n",
    "\n",
    "This function should return the price $P$, given by the present value of the dividend stream:\n",
    "\n",
    "$$ P = \\sum_{t=0}^{n-1} \\dfrac{d_t}{(1+i)^t} $$"
   ]
  },
  {
   "cell_type": "code",
   "execution_count": null,
   "metadata": {},
   "outputs": [],
   "source": [
    "def P(d, i):\n",
    "    \"\"\"\n",
    "    This function returns the price (`P`) of an asset with dividend stream `d`.\n",
    "    The dividend stream is discounted at rate `i`.\n",
    "    \n",
    "    Parameters\n",
    "    ----------\n",
    "    d : array(float, ndim=1)\n",
    "        the values of the time series of dividends\n",
    "        \n",
    "    i : scalar(float)\n",
    "        the effective discount rate\n",
    "    \n",
    "    Returs\n",
    "    ------\n",
    "    output : scalar(float)\n",
    "        The price of the asset paying dividends `d` discounted at rate `i`\n",
    "    \"\"\"\n",
    "    return sum(dt/((1+i)**t) for t, dt in enumerate(d))"
   ]
  },
  {
   "cell_type": "markdown",
   "metadata": {},
   "source": [
    "**3.2.** Modify your function such that it prints a string:\n",
    "\n",
    "- with the message 'Dividend stream must be `list`!', if the parameter variable is not a `list` for the dividends, or\n",
    "- with 'Discount rate must be `float` or `int`!', if the variable is not one of the two types for the case of the discount rate."
   ]
  },
  {
   "cell_type": "code",
   "execution_count": null,
   "metadata": {},
   "outputs": [],
   "source": [
    "def P(d, i):\n",
    "    \"\"\"\n",
    "    This function returns the price (`P`) of an asset with dividend stream `d`.\n",
    "    The dividend stream is discounted at rate `i`.\n",
    "    \n",
    "    Parameters\n",
    "    ----------\n",
    "    d : list (float, ndim=1)\n",
    "        the values of the time series of dividends\n",
    "        \n",
    "    i : scalar (float or int)\n",
    "        the effective discount rate\n",
    "    \n",
    "    Returs\n",
    "    ------\n",
    "    output : float\n",
    "        The price of the asset paying dividends `d` discounted at rate `i`\n",
    "    \"\"\"\n",
    "    if not type(d) == list:\n",
    "        print(\"Dividend stream must be type list!\")\n",
    "    if not (type(i) == float or type(i) == int):\n",
    "        print(\"Discount rate must be type float or int!\")\n",
    "    else:  # J: you could also always compute `P`, or only compute if both conditions above are `True`, but not required here.\n",
    "        return sum(dt/((1+i)**t) for t, dt in enumerate(d))"
   ]
  },
  {
   "cell_type": "markdown",
   "metadata": {},
   "source": [
    "**3.3.** Discribe your function and its required input and output variables by writing its Docstring."
   ]
  },
  {
   "cell_type": "code",
   "execution_count": null,
   "metadata": {},
   "outputs": [],
   "source": [
    "# Solution: see answer to 3.2."
   ]
  },
  {
   "cell_type": "markdown",
   "metadata": {},
   "source": [
    "### Exercise 4 \n",
    "\n",
    "In this exercise you will work with daily data about the SP500 index, contained in the file **^GSPC.csv** available in the course's [GitHub repo](https://github.com/jbrogueira/pyfin2020).\n",
    "\n",
    "Do make sure you use the correct path to access the file when you want to import the data."
   ]
  },
  {
   "cell_type": "markdown",
   "metadata": {},
   "source": [
    "**4.1.** Import `pandas` and read the data in **^GSPC.csv** into a DataFrame named `sp500`. Inspect the first 3 rows of the DataFrame by using the method `head()`."
   ]
  },
  {
   "cell_type": "code",
   "execution_count": null,
   "metadata": {},
   "outputs": [],
   "source": [
    "import pandas as pd\n",
    "\n",
    "sp500 = pd.read_csv('^GSPC.csv')\n",
    "\n",
    "sp500.head(3)"
   ]
  },
  {
   "cell_type": "markdown",
   "metadata": {},
   "source": [
    "**4.2.** Use the method `mean` to compute the mean of all the columns of `sp500`."
   ]
  },
  {
   "cell_type": "code",
   "execution_count": null,
   "metadata": {},
   "outputs": [],
   "source": [
    "sp500.mean()"
   ]
  },
  {
   "cell_type": "markdown",
   "metadata": {},
   "source": [
    "**4.3.** We can easily compute rolling statistics using Pandas. For example, suppose we are interested in calculating a rolling mean value of a series with a window of 10 periods. If this series is stored in column `A` of a DataFrame `df`, we can easily do it with:\n",
    "\n",
    "```python\n",
    "df['A'].rolling(window=10).mean()\n",
    "```\n",
    "\n",
    "Add a new column to `sp500` with a rolling mean of the Close level of the SP500, and label it `'Roll Mean'`."
   ]
  },
  {
   "cell_type": "code",
   "execution_count": null,
   "metadata": {},
   "outputs": [],
   "source": [
    "sp500['Roll Mean'] = sp500['Close'].rolling(window=10).mean()\n",
    "\n",
    "sp500.head(10)"
   ]
  },
  {
   "cell_type": "markdown",
   "metadata": {},
   "source": [
    "**4.4.** Add a new column to `sp500` with label `'SMA'` with the following data:\n",
    "\n",
    "- 0, if `'Roll Mean'` is not defined,\n",
    "- 1, in days in which the Close level of the SP500 is *above* the `'Roll Mean'`,\n",
    "- -1, in days in which the Close level of the SP500 is *below* the `'Roll Mean'`."
   ]
  },
  {
   "cell_type": "code",
   "execution_count": null,
   "metadata": {},
   "outputs": [],
   "source": [
    "import numpy as np\n",
    "\n",
    "sp500['SMA'] = np.select([sp500['Roll Mean'].isna(), sp500['Close']>sp500['Roll Mean']], [0, 1], default=-1)\n",
    "\n",
    "sp500.head(16)"
   ]
  }
 ],
 "metadata": {
  "kernelspec": {
   "display_name": "Python 3",
   "language": "python",
   "name": "python3"
  },
  "language_info": {
   "codemirror_mode": {
    "name": "ipython",
    "version": 3
   },
   "file_extension": ".py",
   "mimetype": "text/x-python",
   "name": "python",
   "nbconvert_exporter": "python",
   "pygments_lexer": "ipython3",
   "version": "3.7.4"
  }
 },
 "nbformat": 4,
 "nbformat_minor": 2
}
