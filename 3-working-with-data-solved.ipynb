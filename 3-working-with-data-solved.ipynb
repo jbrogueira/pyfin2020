{
 "cells": [
  {
   "cell_type": "markdown",
   "metadata": {},
   "source": [
    "# Python for Finance 2020\n",
    "\n",
    "MSc in Finance, Universidade Católica Portuguesa\n",
    "\n",
    "Instructor: João Brogueira de Sousa [jbsousa@ucp.pt]"
   ]
  },
  {
   "cell_type": "markdown",
   "metadata": {},
   "source": [
    "## Working with data\n",
    "\n",
    "In this notebook, you will learn the basics of handling data with Python.\n",
    "\n",
    "In Python, the two main resources for numerical programming are two packages: [Numpy](https://numpy.org/) and [Pandas](https://pandas.pydata.org/). \n",
    "\n",
    "- [Numpy](https://numpy.org/) provides tools to work with N-dimensional array objects, `numpy.ndarray`.\n",
    "\n",
    "- [Pandas)(https://pandas.pydata.org/)\n",
    "\n",
    "We will use [Pandas](https://pandas.pydata.org/), provides data analysis tools to efficiently handle data in tabular form.\n",
    "\n",
    "In this notebook you will see an introduction to Pandas. You are encouraged to explore [Numpy's Quickstart tutorial](https://numpy.org/devdocs/user/quickstart.html).\n",
    "\n",
    "We can access both packages using `import` statements:"
   ]
  },
  {
   "cell_type": "code",
   "execution_count": null,
   "metadata": {},
   "outputs": [],
   "source": [
    "import numpy as np # import numpy and give it a shorter name, `np`\n",
    "import pandas as pd # import pandas and give it a shorter name, `pd`"
   ]
  },
  {
   "cell_type": "markdown",
   "metadata": {},
   "source": [
    "### Pandas\n",
    "\n",
    "After the `import pandas` statement above, we can access any function available in Pandas:"
   ]
  },
  {
   "cell_type": "code",
   "execution_count": null,
   "metadata": {},
   "outputs": [],
   "source": [
    "# data from 11-02-2019 to 11-02-2020 available at https://finance.yahoo.com/quote/%5EGSPC/history?p=%5EGSPC \n",
    "\n",
    "SP500 = pd.read_csv('^GSPC.csv') # you need to specify the correct path to the file being read"
   ]
  },
  {
   "cell_type": "code",
   "execution_count": null,
   "metadata": {},
   "outputs": [],
   "source": [
    "# pd.read_csv?"
   ]
  },
  {
   "cell_type": "code",
   "execution_count": null,
   "metadata": {},
   "outputs": [],
   "source": [
    "type(SP500)"
   ]
  },
  {
   "cell_type": "markdown",
   "metadata": {},
   "source": [
    "The two main data structures in Pandas are Series (1-dimensional) and DataFrame (2-dimensional). We have just created our first DataFrame. It looks like an Excel spreadsheet:"
   ]
  },
  {
   "cell_type": "code",
   "execution_count": null,
   "metadata": {},
   "outputs": [],
   "source": [
    "print(SP500) # this will show you a lot of data"
   ]
  },
  {
   "cell_type": "markdown",
   "metadata": {},
   "source": [
    "The first thing we may want to do is to inspect how the data is organised, by looking at a small part of the DataFrame."
   ]
  },
  {
   "cell_type": "code",
   "execution_count": null,
   "metadata": {},
   "outputs": [],
   "source": [
    "SP500.head() # displays the top of the table"
   ]
  },
  {
   "cell_type": "code",
   "execution_count": null,
   "metadata": {},
   "outputs": [],
   "source": [
    "SP500.tail(3) # displays the bottom 10 rows"
   ]
  },
  {
   "cell_type": "markdown",
   "metadata": {},
   "source": [
    "A Dataframe can have columns with different data types:"
   ]
  },
  {
   "cell_type": "code",
   "execution_count": null,
   "metadata": {},
   "outputs": [],
   "source": [
    "SP500.dtypes"
   ]
  },
  {
   "cell_type": "markdown",
   "metadata": {},
   "source": [
    "DataFrames will distinguish a few data types: \n",
    "\n",
    "- Booleans (`bool`)\n",
    "- Integers (`int64`)\n",
    "- Floats (`float64`)\n",
    "- Dates (`datetime`)\n",
    "- Categorical data (`categorical`)\n",
    "- Everything else (`object`)\n",
    "\n",
    "By using Pandas we open the door to a rich collection of tools to work with data. As a quick preview:"
   ]
  },
  {
   "cell_type": "code",
   "execution_count": null,
   "metadata": {},
   "outputs": [],
   "source": [
    "SP500.describe()"
   ]
  },
  {
   "cell_type": "markdown",
   "metadata": {},
   "source": [
    "When can get different elements of a DataFrame in a variety of ways:"
   ]
  },
  {
   "cell_type": "code",
   "execution_count": null,
   "metadata": {},
   "outputs": [],
   "source": [
    "SP500['Close'] # select a single column"
   ]
  },
  {
   "cell_type": "code",
   "execution_count": null,
   "metadata": {},
   "outputs": [],
   "source": [
    "SP500[0:3] # select first three rows"
   ]
  },
  {
   "cell_type": "code",
   "execution_count": null,
   "metadata": {},
   "outputs": [],
   "source": [
    "SP500.loc[0:3,['Open', 'Close']] # select columns by label"
   ]
  },
  {
   "cell_type": "code",
   "execution_count": null,
   "metadata": {},
   "outputs": [],
   "source": [
    "SP500.iloc[0:5, 0:2] # select by position"
   ]
  },
  {
   "cell_type": "code",
   "execution_count": null,
   "metadata": {},
   "outputs": [],
   "source": [
    "SP500[SP500['Close'] > SP500['Close'].max()*0.99] # Boolean indexing, note the .max() method to find the max Close price"
   ]
  },
  {
   "cell_type": "markdown",
   "metadata": {},
   "source": [
    "Find more on DataFrame indexing in the [pandas documentation](https://pandas.pydata.org/pandas-docs/stable/getting_started/dsintro.html#indexing-selection).\n",
    "\n",
    "We can also change an instance of a DataFrame in several ways."
   ]
  },
  {
   "cell_type": "code",
   "execution_count": null,
   "metadata": {},
   "outputs": [],
   "source": [
    "SP500['Open - Close'] = SP500['Open'] - SP500['Close'] # create a new column by diff of two existing columns "
   ]
  },
  {
   "cell_type": "code",
   "execution_count": null,
   "metadata": {},
   "outputs": [],
   "source": [
    "SP500.head()"
   ]
  },
  {
   "cell_type": "code",
   "execution_count": null,
   "metadata": {},
   "outputs": [],
   "source": [
    "SP500['Volume'] = SP500['Volume']/1e3 # changes the values in a given column"
   ]
  },
  {
   "cell_type": "code",
   "execution_count": null,
   "metadata": {},
   "outputs": [],
   "source": [
    "SP500.tail()"
   ]
  },
  {
   "cell_type": "code",
   "execution_count": null,
   "metadata": {},
   "outputs": [],
   "source": [
    "SP500.drop('Open - Close', axis='columns', inplace=True) "
   ]
  },
  {
   "cell_type": "code",
   "execution_count": null,
   "metadata": {},
   "outputs": [],
   "source": [
    "SP500.head()"
   ]
  },
  {
   "cell_type": "markdown",
   "metadata": {},
   "source": [
    "We can make these changes permanent in the DataFrame either by using the option `inplace=True` (when it's available), or assigning the output back to the variable (example above: `SP500['Volume'] = SP500['Volume']/1e3`)."
   ]
  },
  {
   "cell_type": "markdown",
   "metadata": {},
   "source": [
    "#### Setting the index\n",
    "\n",
    "We can organize the data along the row dimension also by defining an index:"
   ]
  },
  {
   "cell_type": "code",
   "execution_count": null,
   "metadata": {},
   "outputs": [],
   "source": [
    "SP500_daily = SP500.set_index(['Date'])"
   ]
  },
  {
   "cell_type": "code",
   "execution_count": null,
   "metadata": {},
   "outputs": [],
   "source": [
    "SP500_daily.index"
   ]
  },
  {
   "cell_type": "code",
   "execution_count": null,
   "metadata": {},
   "outputs": [],
   "source": [
    "SP500_daily.head()"
   ]
  },
  {
   "cell_type": "markdown",
   "metadata": {},
   "source": [
    "The column that was initially labeled 'Date' acquires a special role and becames the index of the DataFrame. \n",
    "\n",
    "We can actually have more than one index (useful if we have for example both date and company ID), and we can revert an index back to a column using the method `reset_index`."
   ]
  },
  {
   "cell_type": "code",
   "execution_count": null,
   "metadata": {},
   "outputs": [],
   "source": [
    "SP500_daily.reset_index(['Date'], inplace=True)\n",
    "SP500_daily.head()"
   ]
  },
  {
   "cell_type": "code",
   "execution_count": null,
   "metadata": {},
   "outputs": [],
   "source": [
    "SP500_daily = SP500.set_index(['Date']) # set again an index\n",
    "\n",
    "SP500_daily.loc[:,'Volume'] = SP500_daily.loc[:,'Volume']/1e3 # change units on 'Volume' column"
   ]
  },
  {
   "cell_type": "code",
   "execution_count": null,
   "metadata": {},
   "outputs": [],
   "source": [
    "SP500_daily.head()"
   ]
  },
  {
   "cell_type": "markdown",
   "metadata": {},
   "source": [
    "After we have defined the index and the columns, it's straightforward to plot it and have a visual impression of the data:"
   ]
  },
  {
   "cell_type": "code",
   "execution_count": null,
   "metadata": {},
   "outputs": [],
   "source": [
    "# Don't worry about this statement now:\n",
    "%matplotlib inline\n",
    "\n",
    "SP500_daily.plot(figsize=(10, 8)) # using the plot method on the DataFrame"
   ]
  },
  {
   "cell_type": "markdown",
   "metadata": {},
   "source": [
    "We'll soon learn more about plotting with Python, but before that we'll learn about *Aggregations* and *Transforms*."
   ]
  },
  {
   "cell_type": "markdown",
   "metadata": {},
   "source": [
    "#### Built-in Aggregations\n",
    "\n",
    "An aggregation in this context is an operation that combines multiple data values into a single value. Common examples:\n",
    "\n",
    "- `mean`\n",
    "- `var` (variance)\n",
    "- `std` (st. deviation)\n",
    "- `min`\n",
    "- `max`\n",
    "- `median`\n",
    "- etc.\n",
    "\n",
    "By using `Tab` in the usual way we can search for commonly used aggregators."
   ]
  },
  {
   "cell_type": "code",
   "execution_count": null,
   "metadata": {},
   "outputs": [],
   "source": [
    "SP500_daily.mean()"
   ]
  },
  {
   "cell_type": "code",
   "execution_count": null,
   "metadata": {},
   "outputs": [],
   "source": [
    "SP500_daily.var()"
   ]
  },
  {
   "cell_type": "code",
   "execution_count": null,
   "metadata": {},
   "outputs": [],
   "source": [
    "# SP500_daily.var?"
   ]
  },
  {
   "cell_type": "code",
   "execution_count": null,
   "metadata": {},
   "outputs": [],
   "source": [
    "SP500_daily.var(axis=1) # does not make sense with this data set, but we can also do aggregation along the column dimension"
   ]
  },
  {
   "cell_type": "markdown",
   "metadata": {},
   "source": [
    "You can also write your own aggregator and use it via the DataFrame method `agg`. See the [docs](https://pandas.pydata.org/pandas-docs/stable/reference/api/pandas.DataFrame.agg.html#pandas.DataFrame.agg) for more details."
   ]
  },
  {
   "cell_type": "markdown",
   "metadata": {},
   "source": [
    "#### Built-in Transforms\n",
    "\n",
    "Other usefull operations using data series may generate another series, for example calculating the percentage change between two consecutive data points. Some examples are:\n",
    "\n",
    "- `pct_change` (percentage change)\n",
    "- `diff` (difference)\n",
    "- `abs` (absolute value)\n",
    "- `cum|sum|prod|min|max` (commulative sum/product/min/max)\n",
    "- etc."
   ]
  },
  {
   "cell_type": "code",
   "execution_count": null,
   "metadata": {},
   "outputs": [],
   "source": [
    "SP500_daily.pct_change().head()"
   ]
  },
  {
   "cell_type": "code",
   "execution_count": null,
   "metadata": {},
   "outputs": [],
   "source": [
    "SP500_daily.diff().head()"
   ]
  },
  {
   "cell_type": "markdown",
   "metadata": {},
   "source": [
    "Again, you can write your own transforms and use it via the DataFrame method `apply`. See the [docs](https://pandas.pydata.org/pandas-docs/stable/reference/api/pandas.DataFrame.apply.html#pandas.DataFrame.apply) for more details.\n",
    "\n",
    "Hence, calculating and plotting the cummulative change of a variable in pandas is straightforward:"
   ]
  },
  {
   "cell_type": "code",
   "execution_count": null,
   "metadata": {},
   "outputs": [],
   "source": [
    "SP500_daily['Close'].pct_change().cumsum().plot(figsize=(10, 8))"
   ]
  },
  {
   "cell_type": "markdown",
   "metadata": {},
   "source": [
    "### Example: Technical analysis of a trading strategy\n",
    "\n",
    "You are being recruited by an investment firm and are asked to analyse the following investment strategy using two *simple moving averages* (SMAs). \n",
    "\n",
    "The strategy consists of going long on the SP500 when the shorter-term SMA is above the longer-term SMA, and going short when the opposite is true. \n",
    "\n",
    "The short-term SMA (`SMA1`) is calculated over a 20 day window, and the long-term (`SMA2`) over a 60 day window moving average.\n",
    "\n",
    "With what we have learned so far, let us calculate `SMA1` and `SMA2`, illustrate it with a figure and compute the implied investment positions (long/short).\n",
    "\n",
    "This example illustrates how fast it is to analyse this investment strategy strategy using pandas."
   ]
  },
  {
   "cell_type": "code",
   "execution_count": null,
   "metadata": {},
   "outputs": [],
   "source": [
    "data = pd.DataFrame(SP500_daily['Close']) # create a new DataFrame using the closing level of the SP500\n",
    "\n",
    "type(data)"
   ]
  },
  {
   "cell_type": "code",
   "execution_count": null,
   "metadata": {},
   "outputs": [],
   "source": [
    "data['SMA1'] = data['Close'].rolling(window=20, center=True).mean() # calculate 20 day SMA\n",
    "\n",
    "data['SMA2'] = data['Close'].rolling(window=60, center=True).mean() # calculate 60 day SMA"
   ]
  },
  {
   "cell_type": "code",
   "execution_count": null,
   "metadata": {},
   "outputs": [],
   "source": [
    "data.head(15) # notice the missing value"
   ]
  },
  {
   "cell_type": "code",
   "execution_count": null,
   "metadata": {},
   "outputs": [],
   "source": [
    "data.plot(figsize=(12,8)) # notice again the missing values"
   ]
  },
  {
   "cell_type": "code",
   "execution_count": null,
   "metadata": {},
   "outputs": [],
   "source": [
    "data.dropna(inplace=True) # drop missing data (NAN)\n",
    "\n",
    "data.head()"
   ]
  },
  {
   "cell_type": "code",
   "execution_count": null,
   "metadata": {},
   "outputs": [],
   "source": [
    "data['positions'] = np.where(data['SMA1'] > data['SMA2'], 1, -1) # create simple portfolio weights: 1 or -1"
   ]
  },
  {
   "cell_type": "markdown",
   "metadata": {},
   "source": [
    "Finally, plot what the strategy implies in terms of positions on the underlying SP500 index:"
   ]
  },
  {
   "cell_type": "code",
   "execution_count": null,
   "metadata": {},
   "outputs": [],
   "source": [
    "data.plot(figsize=(10,6), secondary_y='positions') # use secondary axis for portfolio weights"
   ]
  },
  {
   "cell_type": "markdown",
   "metadata": {},
   "source": [
    "If you want to save your data to a `csv` file, there is a DataFrame method for that:"
   ]
  },
  {
   "cell_type": "code",
   "execution_count": null,
   "metadata": {},
   "outputs": [],
   "source": [
    "data.to_csv('SMAs.csv') # save data to `SMAs.csv`"
   ]
  }
 ],
 "metadata": {
  "kernelspec": {
   "display_name": "Python 3",
   "language": "python",
   "name": "python3"
  },
  "language_info": {
   "codemirror_mode": {
    "name": "ipython",
    "version": 3
   },
   "file_extension": ".py",
   "mimetype": "text/x-python",
   "name": "python",
   "nbconvert_exporter": "python",
   "pygments_lexer": "ipython3",
   "version": "3.7.4"
  }
 },
 "nbformat": 4,
 "nbformat_minor": 2
}
