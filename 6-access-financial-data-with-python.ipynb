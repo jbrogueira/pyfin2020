{
 "cells": [
  {
   "cell_type": "markdown",
   "metadata": {},
   "source": [
    "# Python for Finance 2020\n",
    "\n",
    "MSc in Finance, Universidade Católica Portuguesa\n",
    "\n",
    "João Brogueira de Sousa [jbsousa@ucp.pt]"
   ]
  },
  {
   "cell_type": "markdown",
   "metadata": {},
   "source": [
    "## Access data with the Python package for the TR Eikon Data API\n",
    "\n",
    "Below you can find instructions on how to install and access the Eikon Data API for Python. This API allows access to Eikon data directly within our Python applications."
   ]
  },
  {
   "cell_type": "markdown",
   "metadata": {},
   "source": [
    "### Installing the Eikon API proxy\n",
    "\n",
    "The first step is to download and install the Eikon API in your computer. For that, we need first to register in the [developed community Refinitiv website](https://developers.refinitiv.com). If we already have a Thomson Reuters ID, we can login with that.\n",
    "\n",
    "After login, we need to [download the Eikon Data API proxy](https://developers.refinitiv.com/eikon-apis/eikon-data-api/downloads). Choose the version according to your computer OS and install it."
   ]
  },
  {
   "cell_type": "markdown",
   "metadata": {},
   "source": [
    "### Installing the Eikon Python package\n",
    "\n",
    "The next step is to install the Python package to be able to use the methods that allow to retreive Eikon data in our Jupyter notebooks (or any Python application). \n",
    "\n",
    "Details about this package can be found [here](https://pypi.org/project/eikon/).\n",
    "\n",
    "The packagep is rightly called `eikon`. One way to install it is by uncommenting and running the code in the cell below (only need to do it once). "
   ]
  },
  {
   "cell_type": "code",
   "execution_count": null,
   "metadata": {},
   "outputs": [],
   "source": [
    "# pip install eikon"
   ]
  },
  {
   "cell_type": "markdown",
   "metadata": {},
   "source": [
    "After installing it, Python magic is back and we can import it as we did with any other Python package before:"
   ]
  },
  {
   "cell_type": "code",
   "execution_count": null,
   "metadata": {},
   "outputs": [],
   "source": [
    "import eikon as ek"
   ]
  },
  {
   "cell_type": "markdown",
   "metadata": {},
   "source": [
    "In order to be able to actually access the Eikon data, we need to set a valid app key. The API [quick start guide](https://developers.refinitiv.com/eikon-apis/eikon-data-api/quick-start) shows how to generate such key."
   ]
  },
  {
   "cell_type": "code",
   "execution_count": null,
   "metadata": {},
   "outputs": [],
   "source": [
    "ek.set_app_key('your-app-key-here')"
   ]
  },
  {
   "cell_type": "markdown",
   "metadata": {},
   "source": [
    "Once this is done, you should be able to access the data. \n",
    "\n",
    "We only need to know what is the appropriate method, because the data itself will look very familiar at this point."
   ]
  },
  {
   "cell_type": "markdown",
   "metadata": {},
   "source": [
    "### Accessing the data\n",
    "\n",
    "There are some basic functions in the `eikon` Python package that allow to retreive data:\n",
    "\n",
    "- `ek.get_data()`: retreive historical data\n",
    "- `ek.get_timeseries()`: retreive time series data\n",
    "- `ek.get_news_headlines()`: search and retreive news headlines\n",
    "- `ek.get_news_story()`: retreives the full text of a news story given `storyID` value obtained with the previous function\n",
    "- etc.\n",
    "\n",
    "Here's an example of how to get time series of Microsoft stock data."
   ]
  },
  {
   "cell_type": "code",
   "execution_count": null,
   "metadata": {},
   "outputs": [],
   "source": [
    "dfdaily = ek.get_timeseries([\"MSFT.O\"], \n",
    "                       start_date = \"2020-03-01T11:04:05\",  \n",
    "                       end_date = \"2020-03-09T15:04:05\", \n",
    "                       interval=\"daily\")"
   ]
  },
  {
   "cell_type": "code",
   "execution_count": null,
   "metadata": {},
   "outputs": [],
   "source": [
    "dfdaily"
   ]
  },
  {
   "cell_type": "code",
   "execution_count": null,
   "metadata": {},
   "outputs": [],
   "source": [
    "type(dfdaily)"
   ]
  },
  {
   "cell_type": "markdown",
   "metadata": {},
   "source": [
    "To know more about `get_timeseries`, proceed in the usual way:"
   ]
  },
  {
   "cell_type": "code",
   "execution_count": null,
   "metadata": {},
   "outputs": [],
   "source": [
    "ek.get_timeseries?"
   ]
  },
  {
   "cell_type": "code",
   "execution_count": null,
   "metadata": {},
   "outputs": [],
   "source": [
    "dfminu = ek.get_timeseries([\"MSFT.O\"], \n",
    "                       start_date = \"2020-03-02T07:04:05\",  \n",
    "                       end_date = \"2020-03-06T18:04:05\", \n",
    "                       interval=\"minute\")"
   ]
  },
  {
   "cell_type": "code",
   "execution_count": null,
   "metadata": {},
   "outputs": [],
   "source": [
    "dfminu"
   ]
  },
  {
   "cell_type": "code",
   "execution_count": null,
   "metadata": {},
   "outputs": [],
   "source": [
    "dftick = ek.get_timeseries([\"MSFT.O\"], \n",
    "                       start_date = \"2020-03-02T07:04:05\",  \n",
    "                       end_date = \"2020-03-06T18:04:05\", \n",
    "                       interval=\"tick\")\n",
    "dftick"
   ]
  },
  {
   "cell_type": "markdown",
   "metadata": {},
   "source": [
    "There is a preset limit on the size of data we can access per request. The above request only retreived 50000 ticks.\n",
    "\n",
    "We can access other data using `ek.get_data`:"
   ]
  },
  {
   "cell_type": "code",
   "execution_count": null,
   "metadata": {},
   "outputs": [],
   "source": [
    "df, err = ek.get_data(['GOOG.O', 'MSFT.O', 'FB.O', 'AMZN.O'], \n",
    "                      ['TR.Revenue.date','TR.Revenue','TR.GrossProfit'],\n",
    "                      {'Scale': 6, 'SDate': 0, 'EDate': -2, 'FRQ': 'FY', 'Curn': 'USD'})\n",
    "df"
   ]
  },
  {
   "cell_type": "code",
   "execution_count": null,
   "metadata": {},
   "outputs": [],
   "source": [
    "ek.get_data?"
   ]
  },
  {
   "cell_type": "markdown",
   "metadata": {},
   "source": [
    "Finally, suppose your Python project requires real time data. We need first to import the [`datetime` method](https://docs.python.org/3.7/library/datetime.html#module-datetime), in order to access the current time automatically: "
   ]
  },
  {
   "cell_type": "code",
   "execution_count": null,
   "metadata": {},
   "outputs": [],
   "source": [
    "import datetime as dt"
   ]
  },
  {
   "cell_type": "markdown",
   "metadata": {},
   "source": [
    "The following code retreives systematically the most recent data by the minute for `MSFT.O`, over the most recent five day period."
   ]
  },
  {
   "cell_type": "code",
   "execution_count": null,
   "metadata": {},
   "outputs": [],
   "source": [
    "req = ek.get_timeseries([\"MSFT.O\"], start_date = dt.datetime.now() + dt.timedelta(-5),\n",
    "                       end_date = dt.datetime.now(), interval=\"minute\")"
   ]
  },
  {
   "cell_type": "code",
   "execution_count": null,
   "metadata": {},
   "outputs": [],
   "source": [
    "req"
   ]
  },
  {
   "cell_type": "markdown",
   "metadata": {},
   "source": [
    "## Other data libraries\n",
    "\n",
    "We can access other libraries in a similar fashion as above. See for instance the [WRDS-Py](https://pypi.org/project/wrds/) Python library for extracting data from WRDS data sources, or [quandl](https://www.quandl.com/tools/python) with access to a few free financial and economic datasets."
   ]
  }
 ],
 "metadata": {
  "kernelspec": {
   "display_name": "Python 3",
   "language": "python",
   "name": "python3"
  },
  "language_info": {
   "codemirror_mode": {
    "name": "ipython",
    "version": 3
   },
   "file_extension": ".py",
   "mimetype": "text/x-python",
   "name": "python",
   "nbconvert_exporter": "python",
   "pygments_lexer": "ipython3",
   "version": "3.7.4"
  }
 },
 "nbformat": 4,
 "nbformat_minor": 2
}
