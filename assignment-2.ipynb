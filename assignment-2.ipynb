{
 "cells": [
  {
   "cell_type": "markdown",
   "metadata": {},
   "source": [
    "# Python for Finance 2020\n",
    "\n",
    "MSc in Finance, Universidade Católica Portuguesa\n",
    "\n",
    "Instructor: João Brogueira de Sousa [jbsousa@ucp.pt]"
   ]
  },
  {
   "cell_type": "markdown",
   "metadata": {},
   "source": [
    "## Assignment #2\n",
    "\n",
    "This notebooks contains exercises that cover the material on notebooks 1 to 5. \n",
    "\n",
    "You should add your answers below, and the identification of all the group members here:\n",
    "\n",
    "- Group member 1 name, Student ID number, email address\n",
    "- Group member 2 name, Student ID number, email address\n",
    "- Group member 3 name, Student ID number, email address\n",
    "\n",
    "You may add extra cells for your answers when needed.\n",
    "\n",
    "Note on grading: often, there will be different ways to solve the exercises and arrive at the correct result. Additional points are awarded for a **clear** and **efficient** use of Python. Follow the [style guide for Python](https://www.python.org/dev/peps/pep-0008/) to improve readability of your code. For efficiency points, as an example, a correct solution using only one `for` loop will be awarded more points than a correct solution using two or more `for` loops. \n",
    "\n",
    "Should you have any questions about this assignment, please write an email to [jbsousa@ucp.pt].\n",
    "\n",
    "You should submit the solution by sending the notebook by email until Monday March 2nd 23:59 (GMT)."
   ]
  },
  {
   "cell_type": "markdown",
   "metadata": {},
   "source": [
    "### Exercise 1\n",
    "\n",
    "In what follows, assume that a year consist of 252 days.\n",
    "\n",
    "**1.1.** Using a pandas DataFrame, import the stock market data in the file `VOO.csv`, available at the course's [GitHub repo](https://github.com/jbrogueira/pyfin2020). Plot all the time series of the price level data, labelling each line in the figure, as well as the horizontal and vertical axis."
   ]
  },
  {
   "cell_type": "code",
   "execution_count": null,
   "metadata": {},
   "outputs": [],
   "source": []
  },
  {
   "cell_type": "code",
   "execution_count": null,
   "metadata": {},
   "outputs": [],
   "source": [
    "# your answer here"
   ]
  },
  {
   "cell_type": "markdown",
   "metadata": {},
   "source": [
    "**1.2.** Create the following variables:\n",
    "- a dataframe `log_rets` that stores the log-returns $R^i_t$, according to $R^i_t = \\log(P^i_t/P^i_{t-1})$, where $P^i_t$ stands for the price level of asset $i$ in period $t$ (available in the `VOO.csv`) file; drop the missing values on this dataframe using the method `dropna`;\n",
    "- a dataframe `train_set` that stores the log-return data up to, and including, the year 2018."
   ]
  },
  {
   "cell_type": "code",
   "execution_count": null,
   "metadata": {},
   "outputs": [],
   "source": [
    "# your answer here"
   ]
  },
  {
   "cell_type": "markdown",
   "metadata": {},
   "source": [
    "Compute descriptive statistics of the training set data contained in `train_set`: number of observations per asset, mean, standard variation, minimum and maximum values."
   ]
  },
  {
   "cell_type": "code",
   "execution_count": null,
   "metadata": {},
   "outputs": [],
   "source": [
    "# your answer here"
   ]
  },
  {
   "cell_type": "markdown",
   "metadata": {},
   "source": [
    "**1.3.** In what follows, assume that the investor is not allowed to take negative (i.e. short) positions in any of the assets. Only long positions are allowed, and the combined positions (the portfolio weights) on the four assets must sum to 100%. Furthermore, assume that the risk-free rate is zero.\n",
    "\n",
    "Randomly generate 2500 arrays with 4 elements, each representing the portfolio weight of each of the assets in `log_rets`. These portfolio weights should respect the restrictions outlined above (must sum to 1 and cannot be negative).\n",
    "\n",
    "For all the portfolios created, calculate the corresponding average *annualized return* and *annualized volatility* (measured by the standard deviation of the return) using the `train_set` return data. Store these values in two lists, `prets` (average return) and `pvols` (volatility).\n",
    "\n",
    "Finally, produce a scatter plot with the [Sharpe ratio](http://web.stanford.edu/~wfsharpe/art/sr/SR.htm) (SR) of each portfolio in the simulation (i.e. the ratio of `prets` and `pvols`), with average volatility on the horizontal axis and average returns on the vertical. Use different colors to distinguish between points with high and low SR values (a color map), and add the corresponding color legend."
   ]
  },
  {
   "cell_type": "code",
   "execution_count": null,
   "metadata": {},
   "outputs": [],
   "source": [
    "# your answer here"
   ]
  },
  {
   "cell_type": "markdown",
   "metadata": {},
   "source": [
    "**1.4.** Calculate the portfolio with the highest (ex-post) Sharpe Ratio using the `train_set` data. Store this portfolio in a `list` named `opt_sr`. You can use optimization routines available in Python, such as in the `scipy.optimize` module.\n",
    "\n",
    "Add a point corresponding to `opt_sr` to the figure created above, using a [marker](https://matplotlib.org/3.1.1/api/_as_gen/matplotlib.markers.MarkerStyle.html#matplotlib.markers.MarkerStyle) that allows to distringuish it from the rest."
   ]
  },
  {
   "cell_type": "code",
   "execution_count": null,
   "metadata": {},
   "outputs": [],
   "source": [
    "# your answer here"
   ]
  },
  {
   "cell_type": "markdown",
   "metadata": {},
   "source": [
    "**1.5.** Calculate the portfolio with the lowest volatility using the `train_set` data. Store this portfolio in a `list` named `opt_vol`. You can again use optimization routines available in Python, such as in the `scipy.optimize` module.\n",
    "\n",
    "Add a point corresponding to `opt_vol` to the figure created above, using a [marker](https://matplotlib.org/3.1.1/api/_as_gen/matplotlib.markers.MarkerStyle.html#matplotlib.markers.MarkerStyle) that allows to distringuish it from the rest."
   ]
  },
  {
   "cell_type": "code",
   "execution_count": null,
   "metadata": {},
   "outputs": [],
   "source": [
    "# your answer here"
   ]
  },
  {
   "cell_type": "markdown",
   "metadata": {},
   "source": [
    "**1.6.** Draw the efficient frontier. To do so, generate a list `efrets` with 50 points equally spaced between the average return value of the *lowest volatility* portfolio (found in 1.5.), and the average return of the *highest Sharpe Ratio* portfolio (found in 1.4.). \n",
    "\n",
    "For each of the return levels in `efrets`, find the portfolio that minimizes volatility, and store the corresponding volatility value in a list `efvol`.\n",
    "\n",
    "Add a *line* with the Sharpe Ratio of the 50 portfolios in the scatter plot generated in 1.3.\n",
    "\n",
    "If you cannot solve 1.5. and 1.6., use instead 0.12 and and 0.21 as bounds of the interval of 50 return values to consider in this exercise."
   ]
  },
  {
   "cell_type": "code",
   "execution_count": null,
   "metadata": {},
   "outputs": [],
   "source": [
    "# your answer here"
   ]
  },
  {
   "cell_type": "markdown",
   "metadata": {},
   "source": [
    "**1.7.** Finally, using the highest Sharpe Ratio portfolio found in 1.4., calculate the cummulated log returns over time during 2018 and during 2019, at a daily frequency. \n",
    "\n",
    "Create a figure with two plots (2018 on the left, 2019 on the right hand side), displaying the cummulated portfolio returns. Add text on each plot displaying the cummulated log return value at the end of each year.\n",
    "\n",
    "If you cannot solve 1.4. you can use an equally weighted portfolio."
   ]
  },
  {
   "cell_type": "code",
   "execution_count": null,
   "metadata": {},
   "outputs": [],
   "source": [
    "# your answer here"
   ]
  }
 ],
 "metadata": {
  "kernelspec": {
   "display_name": "Python 3",
   "language": "python",
   "name": "python3"
  },
  "language_info": {
   "codemirror_mode": {
    "name": "ipython",
    "version": 3
   },
   "file_extension": ".py",
   "mimetype": "text/x-python",
   "name": "python",
   "nbconvert_exporter": "python",
   "pygments_lexer": "ipython3",
   "version": "3.7.4"
  }
 },
 "nbformat": 4,
 "nbformat_minor": 2
}
